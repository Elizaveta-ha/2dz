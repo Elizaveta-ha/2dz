{
 "cells": [
  {
   "cell_type": "code",
   "execution_count": null,
   "metadata": {},
   "outputs": [],
   "source": []
  },
  {
   "cell_type": "code",
   "execution_count": 7,
   "metadata": {},
   "outputs": [
    {
     "name": "stdout",
     "output_type": "stream",
     "text": [
      "True\n"
     ]
    }
   ],
   "source": [
    "long_phrase = 'Насколько проще было бы писать программы, если бы не заказчики'\n",
    "short_phrase = '640Кб должно хватить для любых задач. Билл Гейтс (по легенде)'\n",
    "print(len(long_phrase) > len(short_phrase))"
   ]
  },
  {
   "cell_type": "code",
   "execution_count": 16,
   "metadata": {},
   "outputs": [
    {
     "name": "stdout",
     "output_type": "stream",
     "text": [
      "0.95367431640625MB\n",
      "0.95MB\n"
     ]
    }
   ],
   "source": [
    "file_size = 1000000\n",
    "sizeMB = file_size / 1024 / 1024\n",
    "print(str(sizeMB) + 'MB')\n",
    "print('%.2fMB' % sizeMB) "
   ]
  },
  {
   "cell_type": "code",
   "execution_count": 28,
   "metadata": {},
   "outputs": [
    {
     "name": "stdout",
     "output_type": "stream",
     "text": [
      "Введите месяц рожденияиюнь\n",
      "Введите день рождения11\n",
      "Ваш знак зодиака - близнецы\n"
     ]
    }
   ],
   "source": [
    "month = input('Введите месяц рождения')\n",
    "date = int(input('Введите день рождения'))\n",
    "if month == 'март' :\n",
    "     sign = 'овен' if (date >= 21) else 'рыбы'\n",
    "elif month == 'апрель' :\n",
    "    sign = 'телец' if (date >= 21) else 'овен'\n",
    "elif month == 'май' :\n",
    "    sign = 'близнецы' if (date >= 22) else 'телец'\n",
    "elif month == 'июнь' :\n",
    "    sign = 'рак' if (date >= 22) else 'близнецы'\n",
    "elif month == 'июль' :\n",
    "    sign = 'лев' if (date >= 23) else 'рак'\n",
    "elif month == 'август' :\n",
    "    sign = 'дева' if (date >= 24) else 'лев'\n",
    "elif month == 'сентябрь' :\n",
    "    sign = 'весы' if (date >= 24) else 'дева'\n",
    "elif month == 'октябрь' :\n",
    "    sign = 'скорпион' if (date >= 24) else 'весы'\n",
    "elif month == 'ноябрь' :\n",
    "    sign = 'стрелец' if (date >= 23) else 'скорпион'\n",
    "elif month == 'декабрь' :\n",
    "    sign = 'козерог' if (date >= 23) else 'стрелец'\n",
    "elif month == 'январь' :\n",
    "    sign = 'водолей' if (date >= 21) else 'козерог'\n",
    "elif month == 'февраль' :\n",
    "    sign = 'рыбы' if (date >= 18) else 'водолей'\n",
    "else:\n",
    "    sign = 'неправильный месяц'\n",
    "print('Ваш знак зодиака - ' + sign)\n",
    "    "
   ]
  },
  {
   "cell_type": "code",
   "execution_count": 43,
   "metadata": {},
   "outputs": [
    {
     "name": "stdout",
     "output_type": "stream",
     "text": [
      "Введите вашу заработную плату в месяц: 100000\n",
      "Введите сколько процентов уходит на ипотеку: 30\n",
      "Введите сколько процентов от зарплаты уходит на жизнь: 50\n",
      "Введите количество премий за год: 2\n",
      "340000\n",
      "360000\n"
     ]
    }
   ],
   "source": [
    "salary = int(input('Введите вашу заработную плату в месяц: '))\n",
    "mortgage = float(input('Введите сколько процентов уходит на ипотеку: ')) / 100\n",
    "living_expenses = float(input('Введите сколько процентов от зарплаты уходит на жизнь: ')) / 100\n",
    "premium = float(input('Введите количество премий за год: '))\n",
    "pension = salary * 12 - salary * 12 * mortgage - salary * 12 * living_expenses + salary * 0.5 * premium\n",
    "mortgage_amount = 12 * (salary / 100 * 30)\n",
    "print(int(pension))\n",
    "print(int(mortgage_amount))"
   ]
  },
  {
   "cell_type": "code",
   "execution_count": null,
   "metadata": {},
   "outputs": [],
   "source": []
  },
  {
   "cell_type": "code",
   "execution_count": null,
   "metadata": {},
   "outputs": [],
   "source": [
    "`"
   ]
  }
 ],
 "metadata": {
  "kernelspec": {
   "display_name": "Python 3",
   "language": "python",
   "name": "python3"
  },
  "language_info": {
   "codemirror_mode": {
    "name": "ipython",
    "version": 3
   },
   "file_extension": ".py",
   "mimetype": "text/x-python",
   "name": "python",
   "nbconvert_exporter": "python",
   "pygments_lexer": "ipython3",
   "version": "3.7.6"
  }
 },
 "nbformat": 4,
 "nbformat_minor": 4
}
